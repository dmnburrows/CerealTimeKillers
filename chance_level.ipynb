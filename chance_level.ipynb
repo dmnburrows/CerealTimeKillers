{
 "cells": [
  {
   "cell_type": "code",
   "execution_count": 23,
   "id": "829b3748",
   "metadata": {},
   "outputs": [],
   "source": [
    "import pandas as pd\n",
    "import numpy as np\n",
    "from scipy.special import softmax\n",
    "import matplotlib.pyplot as plt\n",
    "from sklearn.dummy import DummyClassifier\n",
    "from sklearn.model_selection import KFold"
   ]
  },
  {
   "cell_type": "markdown",
   "id": "1c2ebe72",
   "metadata": {},
   "source": [
    "# Chance level\n",
    "\n",
    "We first need to calculate the frequency of labels assigned by the subjects to the games."
   ]
  },
  {
   "cell_type": "code",
   "execution_count": 110,
   "id": "3cbd591f",
   "metadata": {},
   "outputs": [],
   "source": [
    "lab = pd.read_csv(\"GameLabels.csv\")\n",
    "subject_assigned_category = np.array([np.argmax(lab[[\"boring\", \"horrible\", \"calm\", \"funny\"]].iloc[i])\n",
    "                                      for i in range(len(lab))])\n",
    "p_subject_category = np.array([np.sum(subject_assigned_category==i) \n",
    "                               for i in np.unique(subject_assigned_category)]) / len(lab)"
   ]
  },
  {
   "cell_type": "markdown",
   "id": "7ff11161",
   "metadata": {},
   "source": [
    "The chance accuracy can be calculated with a simple classifier that always outputs the same label or that outputs random labels (other option can be used as well).\n",
    "\n",
    "We \"train\" and test the dummy classifier in several splits as for the real model and repeat this process several times to get a better estimation of the variability."
   ]
  },
  {
   "cell_type": "code",
   "execution_count": 126,
   "id": "06ca6243",
   "metadata": {},
   "outputs": [
    {
     "name": "stdout",
     "output_type": "stream",
     "text": [
      "the 95% CI of the accuracy is: 0.09, 0.43\n"
     ]
    },
    {
     "data": {
      "image/png": "[encoded data removed]",
      "text/plain": [
       "<Figure size 432x288 with 1 Axes>"
      ]
     },
     "metadata": {
      "needs_background": "light"
     },
     "output_type": "display_data"
    }
   ],
   "source": [
    "# X is not relevant here since it's not used by the dummy classifier\n",
    "X = lab[[\"valence\", \"arounsal\"]]\n",
    "dummy_clf = DummyClassifier(strategy=\"uniform\")\n",
    "n_splits = 5\n",
    "kfold = KFold(n_splits=n_splits)\n",
    "scores = np.empty([n_splits, 50])\n",
    "for j in range(50):\n",
    "    for i, (train, test) in enumerate(kfold.split(X)):\n",
    "        dummy_clf.fit(X.iloc[train, :], subject_assigned_category[train])\n",
    "        scores[i, j] = dummy_clf.score(X.iloc[test, :], subject_assigned_category[test])\n",
    "\n",
    "plt.figure()\n",
    "plt.hist(scores.flatten(), bins=30)\n",
    "CI95 = np.percentile(scores.flatten(), [2.5, 97.5])\n",
    "print(\"the 95% CI of the accuracy is: {:.2f}, {:.2f}\".format(CI95[0], CI95[1]))"
   ]
  },
  {
   "cell_type": "markdown",
   "id": "25954820",
   "metadata": {},
   "source": [
    "As an alternative the probability of correct responses under the chance model can be calculated from the labels distribution (see the code). The standard error of these estimates are given $\\sqrt{\\frac{p(1-p)}{N}}$, where N is the number of samples used to estimate $p$, in our case given by the number of samples in each CV split."
   ]
  },
  {
   "cell_type": "code",
   "execution_count": 131,
   "id": "9c4101e1",
   "metadata": {},
   "outputs": [
    {
     "name": "stdout",
     "output_type": "stream",
     "text": [
      "the 95% CI of the accuracy is: 0.07, 0.45\n"
     ]
    }
   ],
   "source": [
    "p = max(p_subject_category)\n",
    "p = np.sum(p_subject_category * p_subject_category)\n",
    "# number of samples in each CV split\n",
    "N = int(len(lab)/n_splits)\n",
    "p_SE = np.sqrt(p*(1-p)/N)\n",
    "print(\"the 95% CI of the accuracy is: {:.2f}, {:.2f}\".format(p-2*p_SE, p+2*p_SE))"
   ]
  }
 ],
 "metadata": {
  "kernelspec": {
   "display_name": "Python 3",
   "language": "python",
   "name": "python3"
  },
  "language_info": {
   "codemirror_mode": {
    "name": "ipython",
    "version": 3
   },
   "file_extension": ".py",
   "mimetype": "text/x-python",
   "name": "python",
   "nbconvert_exporter": "python",
   "pygments_lexer": "ipython3",
   "version": "3.7.7"
  }
 },
 "nbformat": 4,
 "nbformat_minor": 5
}
