{
 "cells": [
  {
   "cell_type": "markdown",
   "id": "4a4b91c8",
   "metadata": {},
   "source": [
    "# Analysis of SAM ratings"
   ]
  },
  {
   "cell_type": "markdown",
   "id": "b6cd016b",
   "metadata": {},
   "source": [
    "## Startup"
   ]
  },
  {
   "cell_type": "markdown",
   "id": "34335718",
   "metadata": {},
   "source": [
    "Install required packages"
   ]
  },
  {
   "cell_type": "code",
   "execution_count": 22,
   "id": "b7c81c35",
   "metadata": {},
   "outputs": [],
   "source": [
    "import numpy as np\n",
    "import matplotlib.pyplot as plt\n",
    "import pandas as pd\n",
    "import math"
   ]
  },
  {
   "cell_type": "markdown",
   "id": "2a5f8bcf",
   "metadata": {},
   "source": [
    "Predefined variables"
   ]
  },
  {
   "cell_type": "code",
   "execution_count": 23,
   "id": "009fe885",
   "metadata": {},
   "outputs": [],
   "source": [
    "# Game labels\n",
    "game_label = ['G1: Train Sim World', 'G2: Unravel', 'G3: Slender - The Arrival', 'G4: Goat Simulator']\n",
    "\n",
    "# behavioural assesment values\n",
    "emotions = ['satisfied', 'boring', 'horrible', 'calm', 'funny']\n",
    "AV = ['valence', 'arousal']"
   ]
  },
  {
   "cell_type": "markdown",
   "id": "2bdfeb4e",
   "metadata": {},
   "source": [
    "## Import SAM ratings"
   ]
  },
  {
   "cell_type": "code",
   "execution_count": 24,
   "id": "4cd92887",
   "metadata": {},
   "outputs": [
    {
     "name": "stdout",
     "output_type": "stream",
     "text": [
      "Dataframe headers:\n",
      "['subject', 'game', 'gender', 'age', 'disturbance', 'experience', 'memory', 'satisfied', 'boring', 'horrible', 'calm', 'funny', 'valence', 'arousal']\n",
      "\n",
      "Total number of subjects: 27\n"
     ]
    }
   ],
   "source": [
    "# define directory\n",
    "root = '/Users/a.m.brandsuva.nl/Documents/PhD/summer_school/NeuroMatch_2021/' # ADD root directory\n",
    "\n",
    "# import SAM ratings file\n",
    "ratings = pd.read_csv(root + 'GameLabels.csv', sep=';', header=0)\n",
    "# print(SAM_rat)\n",
    "\n",
    "# print headers\n",
    "print('Dataframe headers:')\n",
    "column_label = list(ratings.columns.values)\n",
    "print(column_label)\n",
    "\n",
    "# determine number of subjects\n",
    "subject_n = len(ratings.loc[:, 'subject'].unique())\n",
    "print('\\nTotal number of subjects: {:d}'.format(subject_n))"
   ]
  },
  {
   "cell_type": "markdown",
   "id": "7233664e",
   "metadata": {},
   "source": [
    "## Retrieve rating values"
   ]
  },
  {
   "cell_type": "markdown",
   "id": "3ea02980",
   "metadata": {},
   "source": [
    "Visualize ratings over all subjects per game."
   ]
  },
  {
   "cell_type": "code",
   "execution_count": 25,
   "id": "405895e2",
   "metadata": {},
   "outputs": [],
   "source": [
    "# initiate arrays to store ratings\n",
    "mu_emotions = np.zeros((len(game_labels), len(emotions)))\n",
    "mu_AV = np.zeros((len(game_labels), len(AV)))\n",
    "\n",
    "err_emotions = np.zeros((len(game_labels), len(emotions)))\n",
    "err_AV = np.zeros((len(game_labels), len(AV)))\n",
    "\n",
    "# iterate over games and retrieve values\n",
    "for i in range(len(game_label)):\n",
    "    \n",
    "    # select entries for one game\n",
    "    r_game = ratings[ratings.game == i + 1]\n",
    "#     print(rat_game)\n",
    "\n",
    "    # compute mean\n",
    "    mu_emotions[i, :] = np.nanmean(r_game.loc[:, emotions], axis=0)\n",
    "    mu_AV[i, :] = np.nanmean(r_game.loc[:, AV], axis=0)\n",
    "    \n",
    "    # compute error\n",
    "    err_emotions[i, :] = np.nanstd(r_game.loc[:, emotions], axis=0)/math.sqrt(subject_n)\n",
    "    err_AV[i, :] = np.nanstd(r_game.loc[:, AV], axis=0)/math.sqrt(subject_n)\n",
    "    \n"
   ]
  },
  {
   "cell_type": "markdown",
   "id": "0b06b292",
   "metadata": {},
   "source": [
    "## Visualize ratings per game"
   ]
  },
  {
   "cell_type": "markdown",
   "id": "649b5c39",
   "metadata": {},
   "source": [
    "Visualize emotion ratings per game"
   ]
  },
  {
   "cell_type": "code",
   "execution_count": 26,
   "id": "483ed8ee",
   "metadata": {},
   "outputs": [
    {
     "data": {
      "text/plain": [
       "<matplotlib.legend.Legend at 0x7fe0d18c8b80>"
      ]
     },
     "execution_count": 26,
     "metadata": {},
     "output_type": "execute_result"
    },
    {
     "data": {
      "image/png": "[encoded data removed]",
      "text/plain": [
       "<Figure size 1008x576 with 1 Axes>"
      ]
     },
     "metadata": {
      "needs_background": "light"
     },
     "output_type": "display_data"
    }
   ],
   "source": [
    "fig = plt.figure(figsize=(14, 8))\n",
    "ax = plt.gca()\n",
    "ax.set_title('Emotional ratings per game')\n",
    "\n",
    "# define x and y values\n",
    "x = np.arange(0, len(game_label)*2, 2)\n",
    "width = 0.2\n",
    "\n",
    "for i in range(len(emotions)):\n",
    "    \n",
    "    # plot values\n",
    "    ax.bar(x + (i*width), mu_emotions[:, i], width=width, label=emotions[i], yerr=err_emotions[:, i])\n",
    "    \n",
    "    # add axis labels\n",
    "    ax.set_xticks(x + 0.6)\n",
    "    ax.set_xticklabels(game_label)\n",
    "\n",
    "    # plot legend\n",
    "plt.legend()"
   ]
  },
  {
   "cell_type": "markdown",
   "id": "d969b9cd",
   "metadata": {},
   "source": [
    "Visualize valence-arousal ratings per game"
   ]
  },
  {
   "cell_type": "code",
   "execution_count": 27,
   "id": "c1d33f83",
   "metadata": {},
   "outputs": [
    {
     "data": {
      "text/plain": [
       "<matplotlib.legend.Legend at 0x7fe0d1a63640>"
      ]
     },
     "execution_count": 27,
     "metadata": {},
     "output_type": "execute_result"
    },
    {
     "data": {
      "image/png": "[encoded data removed]",
      "text/plain": [
       "<Figure size 720x432 with 1 Axes>"
      ]
     },
     "metadata": {
      "needs_background": "light"
     },
     "output_type": "display_data"
    }
   ],
   "source": [
    "fig = plt.figure(figsize=(10, 6))\n",
    "ax = plt.gca()\n",
    "ax.set_title('Arousal-Valence ratings per game')\n",
    "\n",
    "# define x and y values\n",
    "x = np.arange(len(game_label))\n",
    "width = 0.2\n",
    "\n",
    "for i in range(len(AV)):\n",
    "    \n",
    "    # plot values\n",
    "    ax.bar(x + (i*width), mu_AV[:, i], width=width, label=AV[i], yerr=err_AV[:, i])\n",
    "    \n",
    "    # add axis labels\n",
    "    ax.set_xticks(x)\n",
    "    ax.set_xticklabels(game_label)\n",
    "\n",
    "    # plot legend\n",
    "plt.legend()"
   ]
  },
  {
   "cell_type": "code",
   "execution_count": null,
   "id": "356ff56c",
   "metadata": {},
   "outputs": [],
   "source": []
  },
  {
   "cell_type": "code",
   "execution_count": null,
   "id": "276e1b27",
   "metadata": {},
   "outputs": [],
   "source": []
  },
  {
   "cell_type": "code",
   "execution_count": null,
   "id": "4cf558ed",
   "metadata": {},
   "outputs": [],
   "source": []
  },
  {
   "cell_type": "code",
   "execution_count": null,
   "id": "e93ae024",
   "metadata": {},
   "outputs": [],
   "source": []
  },
  {
   "cell_type": "code",
   "execution_count": null,
   "id": "8e33b0e8",
   "metadata": {},
   "outputs": [],
   "source": []
  }
 ],
 "metadata": {
  "kernelspec": {
   "display_name": "Python 3",
   "language": "python",
   "name": "python3"
  },
  "language_info": {
   "codemirror_mode": {
    "name": "ipython",
    "version": 3
   },
   "file_extension": ".py",
   "mimetype": "text/x-python",
   "name": "python",
   "nbconvert_exporter": "python",
   "pygments_lexer": "ipython3",
   "version": "3.8.8"
  }
 },
 "nbformat": 4,
 "nbformat_minor": 5
}
